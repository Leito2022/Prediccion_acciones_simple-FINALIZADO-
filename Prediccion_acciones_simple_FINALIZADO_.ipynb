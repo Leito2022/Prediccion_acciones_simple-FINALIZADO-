{
  "nbformat": 4,
  "nbformat_minor": 0,
  "metadata": {
    "colab": {
      "name": "Prediccion_acciones_simple-FINALIZADO-",
      "provenance": [],
      "authorship_tag": "ABX9TyNnXn2p6JTRYrrJ72J2Z2DJ",
      "include_colab_link": true
    },
    "kernelspec": {
      "name": "python3",
      "display_name": "Python 3"
    },
    "language_info": {
      "name": "python"
    }
  },
  "cells": [
    {
      "cell_type": "markdown",
      "metadata": {
        "id": "view-in-github",
        "colab_type": "text"
      },
      "source": [
        "<a href=\"https://colab.research.google.com/github/Leito2022/Prediccion_acciones_simple-FINALIZADO-/blob/main/Prediccion_acciones_simple_FINALIZADO_.ipynb\" target=\"_parent\"><img src=\"https://colab.research.google.com/assets/colab-badge.svg\" alt=\"Open In Colab\"/></a>"
      ]
    },
    {
      "cell_type": "markdown",
      "source": [
        "#**Predicción de acciones**\n",
        "\n",
        "Por Rodríguez Jorge Leonardo\n",
        "\n",
        "Es tentador mencionar que un modelo de regresión lineal pueda determinar el valor futuro de una acción, esto implicaría que nuestras podemos diluir el riesgo propio de las inversiones en bolsa, sin embargo esto no se da en la vida real. Si bien existen bots capaces de predecir en cierta medida el movimiento de las acciones, no son lo suficientemente fiables como para ser implementados con una confianza absoluta. \n",
        "\n",
        "Muchas son las variables que intervienen en el valor del precio de una acción y muchas de ellas son imprevisibles e incontrolables.\n",
        "\n",
        "Este es un pequeño trabajo de regresión lineal simple que predice el valor de una acción mediante su tendencia de valor al cierre de la rueda.\n"
      ],
      "metadata": {
        "id": "KNKdNVKDpEY6"
      }
    },
    {
      "cell_type": "code",
      "execution_count": 1,
      "metadata": {
        "id": "P5F3y_k3pCWW"
      },
      "outputs": [],
      "source": [
        "#Importación de librerías\n",
        "import pandas as pd\n",
        "import numpy as np\n",
        "from sklearn import preprocessing\n",
        "from sklearn.model_selection import train_test_split\n",
        "from sklearn.linear_model import LinearRegression"
      ]
    },
    {
      "cell_type": "code",
      "source": [
        "#Creamos una pequeña función que realizará la mayoría de las tareas de preprocesamiento\n",
        "#creará una columna, eliminara na, separará x e y. \n",
        "#Luego solo debemos setear los parametros\n",
        "\n",
        "def preparar_datos(df, pronosticar_col, pronosticar, tamano_prueba):\n",
        "  etiqueta = df[pronosticar_col].shift(-pronosticar)\n",
        "  x = np.array(df[[pronosticar_col]])\n",
        "  x = preprocessing.scale(x)\n",
        "  x_target = x[-pronosticar:]\n",
        "  x = x[:-pronosticar]\n",
        "  etiqueta.dropna(inplace = True)\n",
        "  y = np.array(etiqueta)\n",
        "  X_train, X_test, Y_train, Y_test = train_test_split(x, y, test_size = tamano_prueba, random_state = 0)\n",
        "\n",
        "  respuesta = [X_train, X_test, Y_train, Y_test, x_target]\n",
        "  return respuesta"
      ],
      "metadata": {
        "id": "ISjf1h4_qiKi"
      },
      "execution_count": 14,
      "outputs": []
    },
    {
      "cell_type": "code",
      "source": [
        "#GOOD es una de mis acciones favoritas, un REIT bastante solido con unos dividendos nada despreciables.\n",
        "#La información obtenida puede encontarse en la pág de yahoo finance, puede usarse la data de cualquier otra acción.\n",
        "df = pd.read_csv(\"GOOD.csv\")\n",
        "df"
      ],
      "metadata": {
        "colab": {
          "base_uri": "https://localhost:8080/",
          "height": 424
        },
        "id": "cTlFJdUzz37h",
        "outputId": "875e15df-4650-4c50-e8b5-1c849e49b616"
      },
      "execution_count": 5,
      "outputs": [
        {
          "output_type": "execute_result",
          "data": {
            "text/plain": [
              "           Date       Open       High        Low      Close  Adj Close  Volume\n",
              "0    2021-08-20  22.240000  22.570000  22.070000  22.420000  21.031565  163400\n",
              "1    2021-08-23  22.469999  22.520000  22.299999  22.360001  20.975279  111500\n",
              "2    2021-08-24  22.440001  22.490000  22.250000  22.320000  20.937757  106300\n",
              "3    2021-08-25  22.260000  22.410000  22.180000  22.180000  20.806427  163000\n",
              "4    2021-08-26  22.280001  22.299999  22.160000  22.160000  20.787668  128200\n",
              "..          ...        ...        ...        ...        ...        ...     ...\n",
              "247  2022-08-15  20.879999  20.969999  20.690001  20.950001  20.950001  136700\n",
              "248  2022-08-16  20.940001  21.150000  20.879999  21.049999  21.049999  136700\n",
              "249  2022-08-17  20.990000  20.990000  20.570000  20.719999  20.719999  113500\n",
              "250  2022-08-18  20.719999  20.910000  20.719999  20.820000  20.820000  132800\n",
              "251  2022-08-19  20.670000  20.719999  20.549999  20.660000  20.660000  153300\n",
              "\n",
              "[252 rows x 7 columns]"
            ],
            "text/html": [
              "\n",
              "  <div id=\"df-3f77f6ff-a784-48cd-a781-f9555afe0fab\">\n",
              "    <div class=\"colab-df-container\">\n",
              "      <div>\n",
              "<style scoped>\n",
              "    .dataframe tbody tr th:only-of-type {\n",
              "        vertical-align: middle;\n",
              "    }\n",
              "\n",
              "    .dataframe tbody tr th {\n",
              "        vertical-align: top;\n",
              "    }\n",
              "\n",
              "    .dataframe thead th {\n",
              "        text-align: right;\n",
              "    }\n",
              "</style>\n",
              "<table border=\"1\" class=\"dataframe\">\n",
              "  <thead>\n",
              "    <tr style=\"text-align: right;\">\n",
              "      <th></th>\n",
              "      <th>Date</th>\n",
              "      <th>Open</th>\n",
              "      <th>High</th>\n",
              "      <th>Low</th>\n",
              "      <th>Close</th>\n",
              "      <th>Adj Close</th>\n",
              "      <th>Volume</th>\n",
              "    </tr>\n",
              "  </thead>\n",
              "  <tbody>\n",
              "    <tr>\n",
              "      <th>0</th>\n",
              "      <td>2021-08-20</td>\n",
              "      <td>22.240000</td>\n",
              "      <td>22.570000</td>\n",
              "      <td>22.070000</td>\n",
              "      <td>22.420000</td>\n",
              "      <td>21.031565</td>\n",
              "      <td>163400</td>\n",
              "    </tr>\n",
              "    <tr>\n",
              "      <th>1</th>\n",
              "      <td>2021-08-23</td>\n",
              "      <td>22.469999</td>\n",
              "      <td>22.520000</td>\n",
              "      <td>22.299999</td>\n",
              "      <td>22.360001</td>\n",
              "      <td>20.975279</td>\n",
              "      <td>111500</td>\n",
              "    </tr>\n",
              "    <tr>\n",
              "      <th>2</th>\n",
              "      <td>2021-08-24</td>\n",
              "      <td>22.440001</td>\n",
              "      <td>22.490000</td>\n",
              "      <td>22.250000</td>\n",
              "      <td>22.320000</td>\n",
              "      <td>20.937757</td>\n",
              "      <td>106300</td>\n",
              "    </tr>\n",
              "    <tr>\n",
              "      <th>3</th>\n",
              "      <td>2021-08-25</td>\n",
              "      <td>22.260000</td>\n",
              "      <td>22.410000</td>\n",
              "      <td>22.180000</td>\n",
              "      <td>22.180000</td>\n",
              "      <td>20.806427</td>\n",
              "      <td>163000</td>\n",
              "    </tr>\n",
              "    <tr>\n",
              "      <th>4</th>\n",
              "      <td>2021-08-26</td>\n",
              "      <td>22.280001</td>\n",
              "      <td>22.299999</td>\n",
              "      <td>22.160000</td>\n",
              "      <td>22.160000</td>\n",
              "      <td>20.787668</td>\n",
              "      <td>128200</td>\n",
              "    </tr>\n",
              "    <tr>\n",
              "      <th>...</th>\n",
              "      <td>...</td>\n",
              "      <td>...</td>\n",
              "      <td>...</td>\n",
              "      <td>...</td>\n",
              "      <td>...</td>\n",
              "      <td>...</td>\n",
              "      <td>...</td>\n",
              "    </tr>\n",
              "    <tr>\n",
              "      <th>247</th>\n",
              "      <td>2022-08-15</td>\n",
              "      <td>20.879999</td>\n",
              "      <td>20.969999</td>\n",
              "      <td>20.690001</td>\n",
              "      <td>20.950001</td>\n",
              "      <td>20.950001</td>\n",
              "      <td>136700</td>\n",
              "    </tr>\n",
              "    <tr>\n",
              "      <th>248</th>\n",
              "      <td>2022-08-16</td>\n",
              "      <td>20.940001</td>\n",
              "      <td>21.150000</td>\n",
              "      <td>20.879999</td>\n",
              "      <td>21.049999</td>\n",
              "      <td>21.049999</td>\n",
              "      <td>136700</td>\n",
              "    </tr>\n",
              "    <tr>\n",
              "      <th>249</th>\n",
              "      <td>2022-08-17</td>\n",
              "      <td>20.990000</td>\n",
              "      <td>20.990000</td>\n",
              "      <td>20.570000</td>\n",
              "      <td>20.719999</td>\n",
              "      <td>20.719999</td>\n",
              "      <td>113500</td>\n",
              "    </tr>\n",
              "    <tr>\n",
              "      <th>250</th>\n",
              "      <td>2022-08-18</td>\n",
              "      <td>20.719999</td>\n",
              "      <td>20.910000</td>\n",
              "      <td>20.719999</td>\n",
              "      <td>20.820000</td>\n",
              "      <td>20.820000</td>\n",
              "      <td>132800</td>\n",
              "    </tr>\n",
              "    <tr>\n",
              "      <th>251</th>\n",
              "      <td>2022-08-19</td>\n",
              "      <td>20.670000</td>\n",
              "      <td>20.719999</td>\n",
              "      <td>20.549999</td>\n",
              "      <td>20.660000</td>\n",
              "      <td>20.660000</td>\n",
              "      <td>153300</td>\n",
              "    </tr>\n",
              "  </tbody>\n",
              "</table>\n",
              "<p>252 rows × 7 columns</p>\n",
              "</div>\n",
              "      <button class=\"colab-df-convert\" onclick=\"convertToInteractive('df-3f77f6ff-a784-48cd-a781-f9555afe0fab')\"\n",
              "              title=\"Convert this dataframe to an interactive table.\"\n",
              "              style=\"display:none;\">\n",
              "        \n",
              "  <svg xmlns=\"http://www.w3.org/2000/svg\" height=\"24px\"viewBox=\"0 0 24 24\"\n",
              "       width=\"24px\">\n",
              "    <path d=\"M0 0h24v24H0V0z\" fill=\"none\"/>\n",
              "    <path d=\"M18.56 5.44l.94 2.06.94-2.06 2.06-.94-2.06-.94-.94-2.06-.94 2.06-2.06.94zm-11 1L8.5 8.5l.94-2.06 2.06-.94-2.06-.94L8.5 2.5l-.94 2.06-2.06.94zm10 10l.94 2.06.94-2.06 2.06-.94-2.06-.94-.94-2.06-.94 2.06-2.06.94z\"/><path d=\"M17.41 7.96l-1.37-1.37c-.4-.4-.92-.59-1.43-.59-.52 0-1.04.2-1.43.59L10.3 9.45l-7.72 7.72c-.78.78-.78 2.05 0 2.83L4 21.41c.39.39.9.59 1.41.59.51 0 1.02-.2 1.41-.59l7.78-7.78 2.81-2.81c.8-.78.8-2.07 0-2.86zM5.41 20L4 18.59l7.72-7.72 1.47 1.35L5.41 20z\"/>\n",
              "  </svg>\n",
              "      </button>\n",
              "      \n",
              "  <style>\n",
              "    .colab-df-container {\n",
              "      display:flex;\n",
              "      flex-wrap:wrap;\n",
              "      gap: 12px;\n",
              "    }\n",
              "\n",
              "    .colab-df-convert {\n",
              "      background-color: #E8F0FE;\n",
              "      border: none;\n",
              "      border-radius: 50%;\n",
              "      cursor: pointer;\n",
              "      display: none;\n",
              "      fill: #1967D2;\n",
              "      height: 32px;\n",
              "      padding: 0 0 0 0;\n",
              "      width: 32px;\n",
              "    }\n",
              "\n",
              "    .colab-df-convert:hover {\n",
              "      background-color: #E2EBFA;\n",
              "      box-shadow: 0px 1px 2px rgba(60, 64, 67, 0.3), 0px 1px 3px 1px rgba(60, 64, 67, 0.15);\n",
              "      fill: #174EA6;\n",
              "    }\n",
              "\n",
              "    [theme=dark] .colab-df-convert {\n",
              "      background-color: #3B4455;\n",
              "      fill: #D2E3FC;\n",
              "    }\n",
              "\n",
              "    [theme=dark] .colab-df-convert:hover {\n",
              "      background-color: #434B5C;\n",
              "      box-shadow: 0px 1px 3px 1px rgba(0, 0, 0, 0.15);\n",
              "      filter: drop-shadow(0px 1px 2px rgba(0, 0, 0, 0.3));\n",
              "      fill: #FFFFFF;\n",
              "    }\n",
              "  </style>\n",
              "\n",
              "      <script>\n",
              "        const buttonEl =\n",
              "          document.querySelector('#df-3f77f6ff-a784-48cd-a781-f9555afe0fab button.colab-df-convert');\n",
              "        buttonEl.style.display =\n",
              "          google.colab.kernel.accessAllowed ? 'block' : 'none';\n",
              "\n",
              "        async function convertToInteractive(key) {\n",
              "          const element = document.querySelector('#df-3f77f6ff-a784-48cd-a781-f9555afe0fab');\n",
              "          const dataTable =\n",
              "            await google.colab.kernel.invokeFunction('convertToInteractive',\n",
              "                                                     [key], {});\n",
              "          if (!dataTable) return;\n",
              "\n",
              "          const docLinkHtml = 'Like what you see? Visit the ' +\n",
              "            '<a target=\"_blank\" href=https://colab.research.google.com/notebooks/data_table.ipynb>data table notebook</a>'\n",
              "            + ' to learn more about interactive tables.';\n",
              "          element.innerHTML = '';\n",
              "          dataTable['output_type'] = 'display_data';\n",
              "          await google.colab.output.renderOutput(dataTable, element);\n",
              "          const docLink = document.createElement('div');\n",
              "          docLink.innerHTML = docLinkHtml;\n",
              "          element.appendChild(docLink);\n",
              "        }\n",
              "      </script>\n",
              "    </div>\n",
              "  </div>\n",
              "  "
            ]
          },
          "metadata": {},
          "execution_count": 5
        }
      ]
    },
    {
      "cell_type": "code",
      "source": [
        "#Seteamos los parametros y entrenamos el modelo\n",
        "pronosticar_col = \"Close\"\n",
        "pronosticar = 5\n",
        "tamano_prueba = 0.2\n",
        "\n",
        "X_train, X_test, Y_train, Y_test, x_target = preparar_datos(df, pronosticar_col, pronosticar, tamano_prueba)\n",
        "lr = LinearRegression()\n",
        "lr.fit(X_train, Y_train)"
      ],
      "metadata": {
        "colab": {
          "base_uri": "https://localhost:8080/"
        },
        "id": "qoGiAPaO5MUA",
        "outputId": "a47e74c5-5182-4aa5-8c7e-21ced0070c1e"
      },
      "execution_count": 17,
      "outputs": [
        {
          "output_type": "execute_result",
          "data": {
            "text/plain": [
              "LinearRegression()"
            ]
          },
          "metadata": {},
          "execution_count": 17
        }
      ]
    },
    {
      "cell_type": "code",
      "source": [
        "#Determinamos los resultados de nuestro modelo\n",
        "\n",
        "score = lr.score(X_test, Y_test)\n",
        "prediccion = lr.predict(x_target)\n",
        "respuesta1 = {}\n",
        "respuesta1[\"test_score\"] = score\n",
        "respuesta1[\"set_prueba\"] = prediccion\n",
        "\n",
        "print(respuesta1)"
      ],
      "metadata": {
        "colab": {
          "base_uri": "https://localhost:8080/"
        },
        "id": "lAQS8jaQ_qnY",
        "outputId": "bd26381e-542c-4097-c893-a5a53bbe459d"
      },
      "execution_count": 19,
      "outputs": [
        {
          "output_type": "stream",
          "name": "stdout",
          "text": [
            "{'test_score': 0.861001334825428, 'set_prueba': array([20.97035308, 21.06084227, 20.76222198, 20.85271388, 20.70792829])}\n"
          ]
        }
      ]
    },
    {
      "cell_type": "markdown",
      "source": [
        "# **CONCLUSIÓN** \n",
        "Este es un modelo muy simple para predecir acciones usando regresión lineal, cabe entender que si bien logramos un score bastante aceptable, no necesariamente se dé en la realidad. Las variables que intervienen en el aumento o disminución del precio de una acción son demasiadas e impredecibles, podemos realizar tanto análisis fundamental como así también análisis técnico para predecir un precio, y aún así puede haber eventos sociales, politicos o económicos que distorsionen y hagan improcedentes nuestro modelo."
      ],
      "metadata": {
        "id": "3nLY6WgqpDB8"
      }
    }
  ]
}